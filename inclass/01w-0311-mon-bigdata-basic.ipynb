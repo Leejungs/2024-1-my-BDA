{
  "nbformat": 4,
  "nbformat_minor": 0,
  "metadata": {
    "colab": {
      "provenance": [],
      "authorship_tag": "ABX9TyMiSyH6Y5jaq54dQKZxL3LE",
      "include_colab_link": true
    },
    "kernelspec": {
      "name": "python3",
      "display_name": "Python 3"
    },
    "language_info": {
      "name": "python"
    }
  },
  "cells": [
    {
      "cell_type": "markdown",
      "metadata": {
        "id": "view-in-github",
        "colab_type": "text"
      },
      "source": [
        "<a href=\"https://colab.research.google.com/github/Leejungs/2024-1-my-BDA/blob/main/inclass/01w-0311-mon-bigdata-basic.ipynb\" target=\"_parent\"><img src=\"https://colab.research.google.com/assets/colab-badge.svg\" alt=\"Open In Colab\"/></a>"
      ]
    },
    {
      "cell_type": "markdown",
      "source": [
        "# 빅데이터분석프로그래밍"
      ],
      "metadata": {
        "id": "zPeS5_w0_5PG"
      }
    },
    {
      "cell_type": "markdown",
      "source": [
        "# 01주 2024-0311-월"
      ],
      "metadata": {
        "id": "WMJpm6A2ALN2"
      }
    },
    {
      "cell_type": "markdown",
      "source": [
        "#파이썬 설치 확인"
      ],
      "metadata": {
        "id": "PB25qQ6tAOgt"
      }
    },
    {
      "cell_type": "code",
      "execution_count": 2,
      "metadata": {
        "colab": {
          "base_uri": "https://localhost:8080/",
          "height": 35
        },
        "id": "fjultCe5-3qL",
        "outputId": "5595f854-b35d-46ac-cd92-43217194faf4"
      },
      "outputs": [
        {
          "output_type": "execute_result",
          "data": {
            "text/plain": [
              "'3.10.12 (main, Nov 20 2023, 15:14:05) [GCC 11.4.0]'"
            ],
            "application/vnd.google.colaboratory.intrinsic+json": {
              "type": "string"
            }
          },
          "metadata": {},
          "execution_count": 2
        }
      ],
      "source": [
        "import sys\n",
        "sys.version"
      ]
    },
    {
      "cell_type": "code",
      "source": [
        "import site\n",
        "site.getsitepackages()"
      ],
      "metadata": {
        "colab": {
          "base_uri": "https://localhost:8080/"
        },
        "id": "KKLwPALwAX2u",
        "outputId": "231dde1c-7938-422e-a4a4-9d4c1e5ab006"
      },
      "execution_count": 9,
      "outputs": [
        {
          "output_type": "execute_result",
          "data": {
            "text/plain": [
              "['/usr/local/lib/python3.10/dist-packages',\n",
              " '/usr/lib/python3/dist-packages',\n",
              " '/usr/lib/python3.10/dist-packages']"
            ]
          },
          "metadata": {},
          "execution_count": 9
        }
      ]
    },
    {
      "cell_type": "code",
      "source": [
        "import numpy as no\n",
        "import pandas as pd\n",
        "\n",
        "print(no.__version__)\n",
        "print(pd.__version__)"
      ],
      "metadata": {
        "colab": {
          "base_uri": "https://localhost:8080/"
        },
        "id": "tvz73RBHAmCF",
        "outputId": "da256bf9-f584-40f5-c702-d9ea69260560"
      },
      "execution_count": 10,
      "outputs": [
        {
          "output_type": "stream",
          "name": "stdout",
          "text": [
            "1.25.2\n",
            "1.5.3\n"
          ]
        }
      ]
    },
    {
      "cell_type": "code",
      "source": [],
      "metadata": {
        "id": "s8kwWoE-Av8C"
      },
      "execution_count": null,
      "outputs": []
    }
  ]
}