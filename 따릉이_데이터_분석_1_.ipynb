{
  "nbformat": 4,
  "nbformat_minor": 0,
  "metadata": {
    "colab": {
      "provenance": [],
      "authorship_tag": "ABX9TyNA8gYSXeYbUB747HiLF8R/",
      "include_colab_link": true
    },
    "kernelspec": {
      "name": "python3",
      "display_name": "Python 3"
    },
    "language_info": {
      "name": "python"
    }
  },
  "cells": [
    {
      "cell_type": "markdown",
      "metadata": {
        "id": "view-in-github",
        "colab_type": "text"
      },
      "source": [
        "<a href=\"https://colab.research.google.com/github/Leejungs/2024-1-my-BDA/blob/main/%EB%94%B0%EB%A6%89%EC%9D%B4_%EB%8D%B0%EC%9D%B4%ED%84%B0_%EB%B6%84%EC%84%9D_1_.ipynb\" target=\"_parent\"><img src=\"https://colab.research.google.com/assets/colab-badge.svg\" alt=\"Open In Colab\"/></a>"
      ]
    },
    {
      "cell_type": "code",
      "source": [
        "import seaborn as sns\n",
        "import numpy as np\n",
        "import pandas as pd\n",
        "import matplotlib.pyplot as plt"
      ],
      "metadata": {
        "id": "7mMzSE9w7JC1"
      },
      "execution_count": null,
      "outputs": []
    },
    {
      "cell_type": "code",
      "source": [
        "titanic = sns.load_dataset(\"titanic\")\n",
        "titanic"
      ],
      "metadata": {
        "id": "fR4B36D57I_y"
      },
      "execution_count": null,
      "outputs": []
    },
    {
      "cell_type": "code",
      "source": [
        "# Titanic 데이터셋 로드 (예시로 seaborn의 Titanic 데이터셋 사용)\n",
        "df = sns.load_dataset('titanic')\n",
        "\n",
        "# 데이터프레임의 첫 몇 줄 확인\n",
        "print(df.head())\n",
        "\n",
        "# 컬럼 데이터 유형 확인\n",
        "print(df.dtypes)"
      ],
      "metadata": {
        "id": "mY5mcmaU7I8x"
      },
      "execution_count": null,
      "outputs": []
    },
    {
      "cell_type": "code",
      "source": [
        "titanic.info()\n",
        "#타이타닉 열(변수) 설명\n",
        "#survived : 0 = 사망, 1 = 생존\n",
        "#pclass : 1 = 1등석, 2 = 2등석, 3 = 3등석\n",
        "#sex : male = 남성, female = 여성\n",
        "#age : 나이\n",
        "#sibsp : 타이타닉 호에 동승한 자매 / 배우자의 수\n",
        "#parch : 타이타닉 호에 동승한 부모 / 자식의 수\n",
        "#fare : 티켓 요금\n",
        "#embarked : 탑승지, C = 셰르부르, Q = 퀸즈타운, S = 사우샘프턴\n",
        "#class : First = 1등석, Second = 2등석, Third = 3등석\n",
        "#who : 남/여/아이, 'man', 'woman', 'child'\n",
        "#adult_male : 남자 어른, True/False\n",
        "#deck : 방 위치, 'A', 'B', 'C', 'D', 'E', 'F', 'G', NaN\n",
        "#embark_town : 탑승지\n",
        "#alive : 생존, yes/no\n",
        "#alone : 1인 탑승, True/False"
      ],
      "metadata": {
        "id": "orkdGZ_y7I6K"
      },
      "execution_count": null,
      "outputs": []
    },
    {
      "cell_type": "code",
      "source": [
        "sns.countplot(titanic, x = \"sex\");"
      ],
      "metadata": {
        "id": "z6sIllmp7I28"
      },
      "execution_count": null,
      "outputs": []
    },
    {
      "cell_type": "code",
      "source": [
        "# titanic 데이터셋 로드\n",
        "titanic = sns.load_dataset(\"titanic\")\n",
        "\n",
        "# 성별 데이터 집계\n",
        "sex_counts = titanic['sex'].value_counts()\n",
        "\n",
        "# 원형 그래프 그리기\n",
        "plt.figure(figsize=(8, 6))\n",
        "plt.pie(sex_counts, labels=sex_counts.index, autopct='%1.1f%%', startangle=90, colors=['#66b3ff','#ff9999'])\n",
        "plt.title('Distribution of Passengers by Sex')\n",
        "plt.show()"
      ],
      "metadata": {
        "id": "2YvjKMDL7I0F"
      },
      "execution_count": null,
      "outputs": []
    },
    {
      "cell_type": "code",
      "source": [
        "sns.countplot(data = titanic, x = 'class', hue = 'alive');  # x축 class, alive별 색 표현"
      ],
      "metadata": {
        "id": "AYiTfdOy7IxX"
      },
      "execution_count": null,
      "outputs": []
    },
    {
      "cell_type": "code",
      "source": [
        "titanic.nunique()\n",
        "#데이터프레임의 각 열에 대해 고유한 값의 개수를 쉽게 파악할수 있음"
      ],
      "metadata": {
        "id": "6o-GdkqS7Iri"
      },
      "execution_count": null,
      "outputs": []
    },
    {
      "cell_type": "code",
      "source": [
        "sns.barplot(titanic, x=\"deck\", y=\"fare\", hue='class');"
      ],
      "metadata": {
        "id": "84XhiRnB7Iov"
      },
      "execution_count": null,
      "outputs": []
    },
    {
      "cell_type": "code",
      "source": [
        "sns.barplot(titanic, x=\"deck\", y=\"survived\", hue='class');"
      ],
      "metadata": {
        "id": "ZUau8GfO7Ily"
      },
      "execution_count": null,
      "outputs": []
    },
    {
      "cell_type": "code",
      "source": [
        "# 필요없는 컬럼 제거\n",
        "df.drop(columns=['sibsp', 'parch', 'embarked', 'class', 'adult_male', 'embark_town', 'alive', 'deck'], inplace=True, errors='ignore')\n",
        "\n",
        "# 제거 후 데이터프레임 확인\n",
        "print(df.head())\n",
        "print(df.dtypes)"
      ],
      "metadata": {
        "id": "oyNIdbG-7IjM"
      },
      "execution_count": null,
      "outputs": []
    },
    {
      "cell_type": "code",
      "source": [
        "df.dropna(axis=0,inplace=True)\n",
        "df.shape\n",
        "#결측치가 있는 값들을 제거\n",
        "#axis=0을 기준으로 dropna를 통해 null값들을 제거\n",
        "#inplace=True를 통해 원본인 df에도 반영"
      ],
      "metadata": {
        "id": "m93BuyBG7Ifo"
      },
      "execution_count": null,
      "outputs": []
    },
    {
      "cell_type": "code",
      "source": [
        "#타이타닉호의 탑승자의 나이 분포\n",
        "sns.histplot(data=df,x='age',bins=25)\n",
        "#이 그래프를 통해 2~30대가 많은 것을 확인할수 있다."
      ],
      "metadata": {
        "id": "CFhq_B5C9DBo"
      },
      "execution_count": null,
      "outputs": []
    },
    {
      "cell_type": "code",
      "source": [
        "#생존자 수 vs 사망자 수\n",
        "df['survived'].value_counts()\n",
        "#사망자는 424명, 생존자는 290명으로 사망자가 더 많다는 것을 확인"
      ],
      "metadata": {
        "id": "L2GMkcF59C82"
      },
      "execution_count": null,
      "outputs": []
    },
    {
      "cell_type": "code",
      "source": [
        "#객실등급 별로 사망자 수가 얼마나 차이가 나는지\n",
        "sns.violinplot(data=df,x='pclass',y='survived')\n",
        "#1등급으로 갈수록 좋은 객실임을 의미\n",
        "#생존부터 보자면, 3으로 갈수록, 즉 객실이 안좋아질수록 사망자가 증가\n",
        "#반대로 1로 갈수록,즉 객실이 좋아질수록 생존자가 증가\n",
        "#이를 통해, 알 수있는 점: 좋은 객실에 있떤 사람을 우선으로 대피시켰을 가능성이 있다"
      ],
      "metadata": {
        "id": "j3gi9Ob19C5s"
      },
      "execution_count": null,
      "outputs": []
    },
    {
      "cell_type": "code",
      "source": [
        "import seaborn as sns\n",
        "import matplotlib.pyplot as plt\n",
        "\n",
        "# titanic 데이터셋 로드\n",
        "titanic = sns.load_dataset(\"titanic\")\n",
        "\n",
        "# 바이올린 플롯 그리기\n",
        "plt.figure(figsize=(10, 6))\n",
        "sns.violinplot(data=titanic, x='pclass', y='survived', palette='muted')\n",
        "plt.title('Violin plot of Survival by Passenger Class')\n",
        "plt.show()"
      ],
      "metadata": {
        "id": "A20QYPkA9CzF"
      },
      "execution_count": null,
      "outputs": []
    },
    {
      "cell_type": "code",
      "source": [
        "import seaborn as sns\n",
        "import matplotlib.pyplot as plt\n",
        "\n",
        "# titanic 데이터셋 로드\n",
        "titanic = sns.load_dataset(\"titanic\")\n",
        "\n",
        "# 숫자형 데이터만 선택\n",
        "numeric_df = titanic.select_dtypes(include=['float64', 'int64'])\n",
        "\n",
        "# 상관계수 히트맵 그리기\n",
        "plt.figure(figsize=(10, 8))\n",
        "sns.heatmap(numeric_df.corr(), annot=True, cmap='coolwarm', center=0)\n",
        "plt.title('Heatmap of Correlations')\n",
        "plt.show()\n",
        "\n",
        "# 객실 등급과 생존율의 상관계수 계산\n",
        "class_survival_corr = numeric_df[['pclass', 'survived']].corr().iloc[0, 1]\n",
        "print(f\"객실 등급과 생존율의 상관계수: {class_survival_corr:.2f}\")\n",
        "\n",
        "# 해석\n",
        "# 객실 등급과 생존율은 -0.36의 상관관계를 가짐.\n",
        "# 생존율이 1이면 생존, 0이면 사망을 의미함.\n",
        "# 객실 등급이 높아질수록(즉, 객실이 낮아질수록) 생존율이 낮아짐을 의미함."
      ],
      "metadata": {
        "id": "0Av6UBNM9IBq"
      },
      "execution_count": null,
      "outputs": []
    },
    {
      "cell_type": "code",
      "source": [
        "import seaborn as sns\n",
        "import matplotlib.pyplot as plt\n",
        "\n",
        "# titanic 데이터셋 로드\n",
        "titanic = sns.load_dataset(\"titanic\")\n",
        "\n",
        "# 성별에 따른 생존률 계산\n",
        "survival_by_sex = titanic.groupby('sex')['survived'].mean()\n",
        "\n",
        "# 바 차트 그리기\n",
        "plt.figure(figsize=(8, 6))\n",
        "survival_by_sex.plot(kind='bar', color=['#1f77b4', '#ff7f0e'])\n",
        "plt.title('Survival Rate by Sex')\n",
        "plt.xlabel('Sex')\n",
        "plt.ylabel('Survival Rate')\n",
        "plt.ylim(0, 1)\n",
        "plt.xticks(rotation=0)\n",
        "plt.show()\n",
        "#성별과 생존률의 차이\n",
        "#성별을 groupby로 진행, 평균값 중 survived에 대한 차트\n",
        "#bar 차트, x축 값은 성별로 나뉨(male,female)\n",
        "#예를 들어 생존자가 6명,사망자가 4명이라고 쳤을떄, (1+1+1+1+1+1 +0+0+0+0)/10=60%\n",
        "#즉, 아래 그래프는 성별 생존률을 의미하며, 여성의 경우 생존률이 70%, 남성은 20%정도가 생존한것을 확인할수 있음"
      ],
      "metadata": {
        "id": "I_oWHaoh9H_X"
      },
      "execution_count": null,
      "outputs": []
    },
    {
      "cell_type": "code",
      "source": [
        "#생존률에 어느변수가 가장 큰 영향을 미쳤을까?\n",
        "# titanic 데이터셋 로드\n",
        "titanic = sns.load_dataset(\"titanic\")\n",
        "\n",
        "# 숫자형 데이터만 선택\n",
        "numeric_df = titanic.select_dtypes(include=['float64', 'int64'])\n",
        "\n",
        "# 생존률과의 상관관계 계산 및 정렬\n",
        "survival_corr = numeric_df.corr()['survived'].sort_values(ascending=False)\n",
        "print(survival_corr)\n",
        "#가장 강한 상관관계는 -0.35로 약한 음의 상관관계를 갖고있는 pclass, 즉 객실등급이 가장 큰 영향을 미쳤다고 할 수 있음.\n",
        "#fare --> 객실요금은 객실등급과도 연관이 되있으므로, 이 또한 상관관계가 있다고 볼 수 있음."
      ],
      "metadata": {
        "id": "RgF3qT1Q9H86"
      },
      "execution_count": null,
      "outputs": []
    },
    {
      "cell_type": "code",
      "source": [
        "#남성보다 여성이 생존률이 더 높은 이유는? --> 어렵네"
      ],
      "metadata": {
        "id": "WFlOh41C9H6J"
      },
      "execution_count": null,
      "outputs": []
    },
    {
      "cell_type": "code",
      "source": [
        "#데이터프레임의 행을 하나 추가하여 , 그거에 대한 분석을 하는 것도 괜찮을듯\n",
        "#예를 들어, 20대 이하는 청소년, 40대 이하는 청년,이런식으로 잡아서 행에 추가한후,\n",
        "#어떤 연령층이 생존율이 가장높은지, 그리고 그거에 대한 어떤 상관관계가 있는지 등등 확인 가능할수 있어야함"
      ],
      "metadata": {
        "id": "QRaFnW1a9H2x"
      },
      "execution_count": null,
      "outputs": []
    },
    {
      "cell_type": "code",
      "source": [
        "import seaborn as sns\n",
        "import pandas as pd\n",
        "import matplotlib.pyplot as plt\n",
        "\n",
        "# Seaborn의 타이타닉 데이터셋을 로드합니다.\n",
        "titanic = sns.load_dataset('titanic')\n",
        "\n",
        "# 데이터셋의 구조를 확인합니다.\n",
        "print(titanic.head())\n",
        "\n",
        "# 생존 여부와 탑승 항구(Sex, Embarked) 열을 선택하고 결측치를 제거합니다.\n",
        "titanic = titanic[['survived', 'embarked']].dropna()\n",
        "\n",
        "# 탑승 항구별 생존율을 계산합니다.\n",
        "embarked_survival_rate = titanic.groupby('embarked')['survived'].mean().reset_index()\n",
        "\n",
        "# 결과를 출력합니다.\n",
        "print(embarked_survival_rate)\n",
        "\n",
        "# 시각화를 통해 탑승 항구별 생존율을 확인합니다.\n",
        "plt.figure(figsize=(8, 6))\n",
        "sns.barplot(x='embarked', y='survived', data=embarked_survival_rate)\n",
        "plt.title('Survival Rate by Embarkation Point')\n",
        "plt.xlabel('Embarkation Point')\n",
        "plt.ylabel('Survival Rate')\n",
        "plt.ylim(0, 1)\n",
        "plt.show()"
      ],
      "metadata": {
        "id": "TpztBqIS-Epk"
      },
      "execution_count": null,
      "outputs": []
    },
    {
      "cell_type": "code",
      "source": [
        "import pandas as pd\n",
        "import seaborn as sns\n",
        "import matplotlib.pyplot as plt\n",
        "\n",
        "# 예제 데이터프레임 생성\n",
        "data = {'embarked': ['C', 'Q', 'S'], 'survived': [0.553571, 0.389610, 0.336957]}\n",
        "df = pd.DataFrame(data)\n",
        "\n",
        "# 시각화\n",
        "sns.barplot(x='embarked', y='survived', data=df)\n",
        "plt.xlabel('Embarked')\n",
        "plt.ylabel('Survival Rate')\n",
        "plt.title('Survival Rate by Embarkation Point')\n",
        "plt.show()"
      ],
      "metadata": {
        "id": "1kuZhvaI-EnD"
      },
      "execution_count": null,
      "outputs": []
    },
    {
      "cell_type": "code",
      "source": [
        "import pandas as pd\n",
        "import scipy.stats as stats\n",
        "\n",
        "# 타이타닉 데이터셋 불러오기 (여기서는 sns의 내장 데이터셋 사용)\n",
        "titanic = sns.load_dataset('titanic')\n",
        "\n",
        "# 피벗 테이블 생성\n",
        "pivot_table = pd.crosstab(titanic['embarked'], titanic['survived'])\n",
        "\n",
        "# 카이제곱 검정 수행\n",
        "chi2, p, dof, expected = stats.chi2_contingency(pivot_table)\n",
        "\n",
        "print(f\"Chi2: {chi2}, p-value: {p}\")"
      ],
      "metadata": {
        "id": "CDTb1o3g-EkX"
      },
      "execution_count": null,
      "outputs": []
    },
    {
      "cell_type": "code",
      "source": [
        "import pandas as pd\n",
        "import seaborn as sns\n",
        "import matplotlib.pyplot as plt\n",
        "\n",
        "# 타이타닉 데이터셋 불러오기\n",
        "titanic = sns.load_dataset('titanic')\n",
        "\n",
        "# 'deck' 열을 포함한 데이터셋을 확인\n",
        "print(titanic[['deck', 'survived']].head())"
      ],
      "metadata": {
        "id": "-xNmqQaT-Eh6"
      },
      "execution_count": null,
      "outputs": []
    },
    {
      "cell_type": "code",
      "source": [
        "# 데크별 생존율 계산\n",
        "deck_survival_rate = titanic.groupby('deck')['survived'].mean().reset_index()\n",
        "\n",
        "print(deck_survival_rate)"
      ],
      "metadata": {
        "id": "h7IzDAT7-EfU"
      },
      "execution_count": null,
      "outputs": []
    },
    {
      "cell_type": "code",
      "source": [
        "\n",
        "# 데크별 생존율 시각화\n",
        "sns.barplot(x='deck', y='survived', data=deck_survival_rate)\n",
        "plt.xlabel('Deck')\n",
        "plt.ylabel('Survival Rate')\n",
        "plt.title('Survival Rate by Deck')\n",
        "plt.show()"
      ],
      "metadata": {
        "id": "FHs4_LXS-Eb6"
      },
      "execution_count": null,
      "outputs": []
    },
    {
      "cell_type": "code",
      "source": [
        "\n",
        "import scipy.stats as stats\n",
        "\n",
        "# 피벗 테이블 생성\n",
        "pivot_table = pd.crosstab(titanic['deck'], titanic['survived'])\n",
        "\n",
        "# 카이제곱 검정 수행\n",
        "chi2, p, dof, expected = stats.chi2_contingency(pivot_table)\n",
        "\n",
        "print(f\"Chi2: {chi2}, p-value: {p}\")"
      ],
      "metadata": {
        "id": "XusAf8k8-Nvt"
      },
      "execution_count": null,
      "outputs": []
    },
    {
      "cell_type": "code",
      "source": [
        "\n",
        "import pandas as pd\n",
        "import seaborn as sns\n",
        "\n",
        "# 타이타닉 데이터셋 불러오기\n",
        "titanic = sns.load_dataset('titanic')\n",
        "\n",
        "# 데크별 생존율 계산\n",
        "deck_survival_rate = titanic.groupby('deck')['survived'].mean().reset_index()\n",
        "\n",
        "print(deck_survival_rate)"
      ],
      "metadata": {
        "id": "9W5B-ekt-NtM"
      },
      "execution_count": null,
      "outputs": []
    },
    {
      "cell_type": "code",
      "source": [
        "import matplotlib.pyplot as plt\n",
        "\n",
        "# 데크별 생존율 데이터 준비\n",
        "deck_survival_rate = titanic.groupby('deck')['survived'].mean().reset_index()\n",
        "\n",
        "# 데크 순서를 지정\n",
        "deck_order = ['A', 'B', 'C', 'D', 'E', 'F', 'G', 'T']\n",
        "deck_survival_rate = deck_survival_rate.set_index('deck').reindex(deck_order).reset_index()\n",
        "\n",
        "# 배 이미지 생성\n",
        "fig, ax = plt.subplots(figsize=(10, 8))\n",
        "\n",
        "# 배의 데크 위치 시각화\n",
        "for idx, deck in enumerate(deck_order):\n",
        "    survival_rate = deck_survival_rate[deck_survival_rate['deck'] == deck]['survived'].values[0]\n",
        "    color = plt.cm.viridis(survival_rate)  # 생존율에 따라 색상 변경\n",
        "    rect = plt.Rectangle((0.3, idx * 0.1), 0.4, 0.1, color=color)\n",
        "    ax.add_patch(rect)\n",
        "    ax.text(0.5, idx * 0.1 + 0.05, f'Deck {deck}: {survival_rate:.2f}',\n",
        "            horizontalalignment='center', verticalalignment='center', fontsize=12, color='white')\n",
        "\n",
        "# 배 모양 윤곽선 그리기\n",
        "ax.plot([0.3, 0.3, 0.7, 0.7], [0, 0.8, 0.8, 0], color='black')\n",
        "ax.set_xlim(0, 1)\n",
        "ax.set_ylim(0, 1)\n",
        "ax.set_aspect('equal')\n",
        "\n",
        "# 그래프 설정\n",
        "ax.set_axis_off()\n",
        "plt.title('Titanic Survival Rate by Deck')\n",
        "plt.show()"
      ],
      "metadata": {
        "id": "KKvsYvkj-Nqr"
      },
      "execution_count": null,
      "outputs": []
    },
    {
      "cell_type": "code",
      "source": [
        "import matplotlib.pyplot as plt\n",
        "import pandas as pd\n",
        "import seaborn as sns\n",
        "\n",
        "# 타이타닉 데이터셋 불러오기\n",
        "titanic = sns.load_dataset('titanic')\n",
        "\n",
        "# 데크별 생존율 계산\n",
        "deck_survival_rate = titanic.groupby('deck')['survived'].mean().reset_index()\n",
        "\n",
        "# 데크 순서를 지정\n",
        "deck_order = ['A', 'B', 'C', 'D', 'E', 'F', 'G']\n",
        "deck_survival_rate = deck_survival_rate.set_index('deck').reindex(deck_order).reset_index()\n",
        "\n",
        "# 배 이미지 생성\n",
        "fig, ax = plt.subplots(figsize=(12, 6))\n",
        "\n",
        "# 배 모양 그리기\n",
        "boat_shape = [\n",
        "    ((0.2, 0.9), (0.8, 0.9)),\n",
        "    ((0.2, 0.1), (0.8, 0.1)),\n",
        "    ((0.2, 0.9), (0.2, 0.1)),\n",
        "    ((0.8, 0.9), (0.8, 0.1)),\n",
        "    ((0.2, 0.9), (0.5, 1.0)),\n",
        "    ((0.8, 0.9), (0.5, 1.0))\n",
        "]\n",
        "\n",
        "for line in boat_shape:\n",
        "    (x0, y0), (x1, y1) = line\n",
        "    ax.plot([x0, x1], [y0, y1], color='black')\n",
        "\n",
        "# 각 데크의 위치 설정 및 생존율 표시\n",
        "deck_positions = {\n",
        "    'A': 0.875,\n",
        "    'B': 0.75,\n",
        "    'C': 0.625,\n",
        "    'D': 0.5,\n",
        "    'E': 0.375,\n",
        "    'F': 0.25,\n",
        "    'G': 0.125\n",
        "}\n",
        "\n",
        "for deck, y_pos in deck_positions.items():\n",
        "    survival_rate = deck_survival_rate[deck_survival_rate['deck'] == deck]['survived'].values[0]\n",
        "    color = plt.cm.viridis(survival_rate)\n",
        "    rect = plt.Rectangle((0.2, y_pos - 0.05), 0.6, 0.1, color=color)\n",
        "    ax.add_patch(rect)\n",
        "    ax.text(0.5, y_pos, f'Deck {deck}: {survival_rate:.2f}',\n",
        "            horizontalalignment='center', verticalalignment='center', fontsize=12, color='white')\n",
        "\n",
        "# 그래프 설정\n",
        "ax.set_xlim(0, 1)\n",
        "ax.set_ylim(0, 1)\n",
        "ax.set_aspect('equal')\n",
        "ax.set_axis_off()\n",
        "plt.title('Titanic Survival Rate by Deck')\n",
        "plt.show()"
      ],
      "metadata": {
        "id": "R58kUHd8-Nnr"
      },
      "execution_count": null,
      "outputs": []
    },
    {
      "cell_type": "code",
      "execution_count": null,
      "metadata": {
        "id": "yDwGTsSXFx-E"
      },
      "outputs": [],
      "source": [
        "## 주제: 자전거 대여\n",
        "# 기본 패키지 불러오기\n",
        "\n",
        "import math\n",
        "import numpy as np\n",
        "import pandas as pd\n",
        "import matplotlib.pyplot as plt\n",
        "import seaborn as sns\n",
        "plt.style.use(\"seaborn\")\n",
        "sns.set(font_scale = 1)\n",
        "sns.set_style(\"whitegrid\")\n",
        "\n",
        "import plotly.express as px\n",
        "\n",
        "import chart_studio.plotly as py\n",
        "import cufflinks as cf\n",
        "cf.go_offline(connected=True)\n",
        "\n",
        "import plotly.graph_objects as go\n",
        "import plotly.offline as pyo\n",
        "pyo.init_notebook_mode()\n",
        "\n",
        "from plotly.subplots import make_subplots\n",
        "\n",
        "import warnings # 경고 메세지 숨기기\n",
        "warnings.filterwarnings(\"ignore\")\n",
        "\n",
        "plt.rcParams[\"font.family\"] = 'S-Core Dream' # 한글 폰트 가져오기\n",
        "plt.rcParams['axes.unicode_minus'] = False # - 기호 깨짐 해결\n"
      ]
    },
    {
      "cell_type": "code",
      "source": [
        "# 데이터 불러오기\n",
        "\n",
        "bike_1 = pd.read_csv(\"공공자전거 대여소 정보_csv\", encoding=\"cp949\")\n",
        "bike_2 = pd.read_csv(\"서울특별시_공공자전거_이용정보(월별).csv\", encoding=\"cp949\")\n",
        "bike_3 = pd.read_csv(\"서울특별시_공공자전거_이용정보(시간대별).csv\", encoding=\"cp949\")\n",
        "\n",
        "print(bike_1.shape)\n",
        "print(bike_2.shape)\n",
        "print(bike_3.shape)\n",
        "\n",
        "bike_1.head()\n",
        "#bike_2.head()\n",
        "#bike_3.head()"
      ],
      "metadata": {
        "id": "z3jNVEUVGD8I"
      },
      "execution_count": null,
      "outputs": []
    },
    {
      "cell_type": "code",
      "source": [
        "# 데이터 기본 정보 확인\n",
        "\n",
        "#bike_1.info()\n",
        "#bike_2.info()\n",
        "bike_3.info()"
      ],
      "metadata": {
        "id": "KclrCY-xQzEB"
      },
      "execution_count": null,
      "outputs": []
    },
    {
      "cell_type": "code",
      "source": [
        "# 수치형 데이터 통계 확인\n",
        "\n",
        "#bike_1.describe()\n",
        "#bike_2.describe()\n",
        "bike_3.describe()"
      ],
      "metadata": {
        "id": "NAJiTqP2RxVh"
      },
      "execution_count": null,
      "outputs": []
    },
    {
      "cell_type": "code",
      "source": [
        "# 범주형 데이터 통계 확인\n",
        "\n",
        "#bike_1.describe(include = np.object_)\n",
        "#bike_2.describe(include = np.object_)\n",
        "bike_3.describe(include = np.object_)"
      ],
      "metadata": {
        "id": "bhJROd2mRxTG"
      },
      "execution_count": null,
      "outputs": []
    },
    {
      "cell_type": "code",
      "source": [
        "# bike_1 데이터 결측치 확인\n",
        "\n",
        "bike_1.isnull().sum()"
      ],
      "metadata": {
        "id": "pTq7ZzB3RxMx"
      },
      "execution_count": null,
      "outputs": []
    },
    {
      "cell_type": "code",
      "source": [
        "# bike_1 데이터 결측치 시각화\n",
        "\n",
        "msno.bar(bike_1)"
      ],
      "metadata": {
        "id": "aY37JNUXRxIN"
      },
      "execution_count": null,
      "outputs": []
    },
    {
      "cell_type": "code",
      "source": [
        "# bike_2 데이터 결측치 확인\n",
        "\n",
        "bike_2.isnull().sum()"
      ],
      "metadata": {
        "id": "TLiPe8A-RxB2"
      },
      "execution_count": null,
      "outputs": []
    },
    {
      "cell_type": "code",
      "source": [
        "# bike_3 데이터 결측치 확인\n",
        "\n",
        "bike_3.isnull().sum()"
      ],
      "metadata": {
        "id": "uHubstCuRwzO"
      },
      "execution_count": null,
      "outputs": []
    },
    {
      "cell_type": "code",
      "source": [
        "# bike_3 데이터 결측치 시각화 //여기까지가 데이터분석 1\n",
        "\n",
        "msno.bar(bike_3)"
      ],
      "metadata": {
        "colab": {
          "base_uri": "https://localhost:8080/",
          "height": 185
        },
        "id": "shhzLo2ISTZl",
        "outputId": "bd9f8417-cc72-4287-9751-a0d3131fba47"
      },
      "execution_count": null,
      "outputs": [
        {
          "output_type": "error",
          "ename": "NameError",
          "evalue": "name 'msno' is not defined",
          "traceback": [
            "\u001b[0;31m---------------------------------------------------------------------------\u001b[0m",
            "\u001b[0;31mNameError\u001b[0m                                 Traceback (most recent call last)",
            "\u001b[0;32m<ipython-input-2-4f9d36e8f4cd>\u001b[0m in \u001b[0;36m<cell line: 3>\u001b[0;34m()\u001b[0m\n\u001b[1;32m      1\u001b[0m \u001b[0;31m# bike_3 데이터 결측치 시각화\u001b[0m\u001b[0;34m\u001b[0m\u001b[0;34m\u001b[0m\u001b[0m\n\u001b[1;32m      2\u001b[0m \u001b[0;34m\u001b[0m\u001b[0m\n\u001b[0;32m----> 3\u001b[0;31m \u001b[0mmsno\u001b[0m\u001b[0;34m.\u001b[0m\u001b[0mbar\u001b[0m\u001b[0;34m(\u001b[0m\u001b[0mbike_3\u001b[0m\u001b[0;34m)\u001b[0m\u001b[0;34m\u001b[0m\u001b[0;34m\u001b[0m\u001b[0m\n\u001b[0m",
            "\u001b[0;31mNameError\u001b[0m: name 'msno' is not defined"
          ]
        }
      ]
    },
    {
      "cell_type": "code",
      "source": [
        "## 3-1 컬럼명 바꾸기\n",
        "# bike_1 데이터 컬럼명 바꾸기\n",
        "\n",
        "bike_1.columns = ['대여소번호', '대여소명', '자치구', ' 상세주도', '위도', '경도', '설치시기', '거치대수lcd', '거치대수qr', '운영방식']\n",
        "\n",
        "bike_1.head(1)"
      ],
      "metadata": {
        "colab": {
          "base_uri": "https://localhost:8080/",
          "height": 222
        },
        "id": "8OsU-9emSgST",
        "outputId": "3048b040-ee4c-427b-b5b5-2f728c3d6871"
      },
      "execution_count": null,
      "outputs": [
        {
          "output_type": "error",
          "ename": "NameError",
          "evalue": "name 'bike_1' is not defined",
          "traceback": [
            "\u001b[0;31m---------------------------------------------------------------------------\u001b[0m",
            "\u001b[0;31mNameError\u001b[0m                                 Traceback (most recent call last)",
            "\u001b[0;32m<ipython-input-3-939e858e4188>\u001b[0m in \u001b[0;36m<cell line: 4>\u001b[0;34m()\u001b[0m\n\u001b[1;32m      2\u001b[0m \u001b[0;31m# bike_1 데이터 컬럼명 바꾸기\u001b[0m\u001b[0;34m\u001b[0m\u001b[0;34m\u001b[0m\u001b[0m\n\u001b[1;32m      3\u001b[0m \u001b[0;34m\u001b[0m\u001b[0m\n\u001b[0;32m----> 4\u001b[0;31m \u001b[0mbike_1\u001b[0m\u001b[0;34m.\u001b[0m\u001b[0mcolumns\u001b[0m \u001b[0;34m=\u001b[0m \u001b[0;34m[\u001b[0m\u001b[0;34m'대여소번호'\u001b[0m\u001b[0;34m,\u001b[0m \u001b[0;34m'대여소명'\u001b[0m\u001b[0;34m,\u001b[0m \u001b[0;34m'자치구'\u001b[0m\u001b[0;34m,\u001b[0m \u001b[0;34m' 상세주도'\u001b[0m\u001b[0;34m,\u001b[0m \u001b[0;34m'위도'\u001b[0m\u001b[0;34m,\u001b[0m \u001b[0;34m'경도'\u001b[0m\u001b[0;34m,\u001b[0m \u001b[0;34m'설치시기'\u001b[0m\u001b[0;34m,\u001b[0m \u001b[0;34m'거치대수lcd'\u001b[0m\u001b[0;34m,\u001b[0m \u001b[0;34m'거치대수qr'\u001b[0m\u001b[0;34m,\u001b[0m \u001b[0;34m'운영방식'\u001b[0m\u001b[0;34m]\u001b[0m\u001b[0;34m\u001b[0m\u001b[0;34m\u001b[0m\u001b[0m\n\u001b[0m\u001b[1;32m      5\u001b[0m \u001b[0;34m\u001b[0m\u001b[0m\n\u001b[1;32m      6\u001b[0m \u001b[0mbike_1\u001b[0m\u001b[0;34m.\u001b[0m\u001b[0mhead\u001b[0m\u001b[0;34m(\u001b[0m\u001b[0;36m1\u001b[0m\u001b[0;34m)\u001b[0m\u001b[0;34m\u001b[0m\u001b[0;34m\u001b[0m\u001b[0m\n",
            "\u001b[0;31mNameError\u001b[0m: name 'bike_1' is not defined"
          ]
        }
      ]
    },
    {
      "cell_type": "code",
      "source": [
        "# bike_2 데이터 컬럼명 바꾸기\n",
        "\n",
        "bike_2.columns = ['대여소명', '대여일자/월', '대여건수']\n",
        "\n",
        "bike_2.head(1)"
      ],
      "metadata": {
        "id": "7Df8SraRkhrq"
      },
      "execution_count": null,
      "outputs": []
    },
    {
      "cell_type": "code",
      "source": [
        "## 3-2 필요없는 컬럼 삭제하기\n",
        "\n",
        "#bike_1 = bike_1.drop([\"상세주소\", \"위도\", \"경도\"], axis = 1)\n",
        "\n",
        "print(bike_1.shape)\n",
        "bike_1.head()"
      ],
      "metadata": {
        "id": "MrPz_RvYkslS"
      },
      "execution_count": null,
      "outputs": []
    },
    {
      "cell_type": "code",
      "source": [
        "## 3-3 결측치 처리하기\n",
        "\n",
        "# bike_1 데이터에서 설치시기가 NaN인 데이터는 수가 매우 적으므로 삭제\n",
        "\n",
        "dp = bike_1[bike_1[\"설치시기\"].isnull()]\n",
        "bike_1 = bike_1.drop(dp.index)\n",
        "\n",
        "bike_1.isnull().sum()"
      ],
      "metadata": {
        "id": "v131wRssksjM"
      },
      "execution_count": null,
      "outputs": []
    },
    {
      "cell_type": "code",
      "source": [
        "# bike_1 데이터에서 운영방식에 따라 LCD 또는 QR 거치대의 수가 결정되기 때문에\n",
        "# 거치대수lcd, 거치대수qr 컬럼의 NaN 값은 0으로 처리\n",
        "\n",
        "bike_1 = bike_1.fillna(0)\n",
        "\n",
        "bike_1.isnull().sum()"
      ],
      "metadata": {
        "id": "zNgtvqmdksWB"
      },
      "execution_count": null,
      "outputs": []
    },
    {
      "cell_type": "code",
      "source": [
        "# 성별 컬럼 분류 확인\n",
        "\n",
        "bike_3[\"성별\"].nunique()"
      ],
      "metadata": {
        "id": "ddd13UIJksT2"
      },
      "execution_count": null,
      "outputs": []
    },
    {
      "cell_type": "code",
      "source": [
        "# bike_3 데이터의 성별 값 통일\n",
        "\n",
        "bike_3[bike_3[\"성별\"] ==\"f\"] = \"F\"\n",
        "bike_3[bike_3[\"성별\"] ==\"m\"] = \"M\"\n",
        "\n",
        "bike_3[\"성별\"].unique()"
      ],
      "metadata": {
        "id": "kPRUNAu8ksPZ"
      },
      "execution_count": null,
      "outputs": []
    },
    {
      "cell_type": "code",
      "source": [
        "# bike_2 데이터의 대여소명 앞 숫자 분리\n",
        "\n",
        "bike_2[\"대여소번호\"] = bike_2[\"대여소명\"].str.split(\",\", expand = Ture)[0]\n",
        "\n",
        "# 대여소명은 숫자를 땐 값으로 새로운 컬럼 값으로 지정\n",
        "\n",
        "bike_2[\"대여소명_new\"] = bike_2[\"대여소명\"].str.split(\",\", expand = True)[1]\n",
        "\n",
        "print(bike_2.shape)\n",
        "print(bike_2.isnull().sum())\n",
        "\n",
        "bike_2.head()"
      ],
      "metadata": {
        "id": "EL4LJ-bQksM0"
      },
      "execution_count": null,
      "outputs": []
    },
    {
      "cell_type": "code",
      "source": [
        "bike_2[bike_2[\"대여소명_new\"].isnull()].head()"
      ],
      "metadata": {
        "id": "i3TzKuICksKb"
      },
      "execution_count": null,
      "outputs": []
    },
    {
      "cell_type": "code",
      "source": [
        "# bike_2 데이터의 대여소명_new 값이 None 인 데이터 삭제\n",
        "\n",
        "bike_2 = bike_2.dropna(subset = [\"대여소명_new\"])\n",
        "\n",
        "print(bike_2.shape)\n",
        "print(bike_2.isnull().sum())\n",
        "\n",
        "bike_2.head()"
      ],
      "metadata": {
        "id": "t16NGd_MksH4"
      },
      "execution_count": null,
      "outputs": []
    },
    {
      "cell_type": "code",
      "source": [
        "# bike_3 데이터의 대여소명 앞의 숫자가 삭제된 새로운 대여소명 컬럼 생성\n",
        "\n",
        "bike_3[\"대여소명_new\"] = bike_3[\"대여소명\"].str.split(\",\", expand = True)[1]\n",
        "\n",
        "print(bike_3.shape)\n",
        "print(bike_3.isnull().sum())\n",
        "\n",
        "bike_3.head()"
      ],
      "metadata": {
        "colab": {
          "base_uri": "https://localhost:8080/",
          "height": 222
        },
        "id": "REjGbjYcq0NG",
        "outputId": "a3632dd6-2ae3-463b-b856-3e9acbf6fe3c"
      },
      "execution_count": null,
      "outputs": [
        {
          "output_type": "error",
          "ename": "NameError",
          "evalue": "name 'bike_3' is not defined",
          "traceback": [
            "\u001b[0;31m---------------------------------------------------------------------------\u001b[0m",
            "\u001b[0;31mNameError\u001b[0m                                 Traceback (most recent call last)",
            "\u001b[0;32m<ipython-input-4-9038426341ff>\u001b[0m in \u001b[0;36m<cell line: 3>\u001b[0;34m()\u001b[0m\n\u001b[1;32m      1\u001b[0m \u001b[0;31m# bike_3 데이터의 대여소명 앞의 숫자가 삭제된 새로운 대여소명 컬럼 생성\u001b[0m\u001b[0;34m\u001b[0m\u001b[0;34m\u001b[0m\u001b[0m\n\u001b[1;32m      2\u001b[0m \u001b[0;34m\u001b[0m\u001b[0m\n\u001b[0;32m----> 3\u001b[0;31m \u001b[0mbike_3\u001b[0m\u001b[0;34m[\u001b[0m\u001b[0;34m\"대여소명_new\"\u001b[0m\u001b[0;34m]\u001b[0m \u001b[0;34m=\u001b[0m \u001b[0mbike_3\u001b[0m\u001b[0;34m[\u001b[0m\u001b[0;34m\"대여소명\"\u001b[0m\u001b[0;34m]\u001b[0m\u001b[0;34m.\u001b[0m\u001b[0mstr\u001b[0m\u001b[0;34m.\u001b[0m\u001b[0msplit\u001b[0m\u001b[0;34m(\u001b[0m\u001b[0;34m\",\"\u001b[0m\u001b[0;34m,\u001b[0m \u001b[0mexpand\u001b[0m \u001b[0;34m=\u001b[0m \u001b[0;32mTrue\u001b[0m\u001b[0;34m)\u001b[0m\u001b[0;34m[\u001b[0m\u001b[0;36m1\u001b[0m\u001b[0;34m]\u001b[0m\u001b[0;34m\u001b[0m\u001b[0;34m\u001b[0m\u001b[0m\n\u001b[0m\u001b[1;32m      4\u001b[0m \u001b[0;34m\u001b[0m\u001b[0m\n\u001b[1;32m      5\u001b[0m \u001b[0mprint\u001b[0m\u001b[0;34m(\u001b[0m\u001b[0mbike_3\u001b[0m\u001b[0;34m.\u001b[0m\u001b[0mshape\u001b[0m\u001b[0;34m)\u001b[0m\u001b[0;34m\u001b[0m\u001b[0;34m\u001b[0m\u001b[0m\n",
            "\u001b[0;31mNameError\u001b[0m: name 'bike_3' is not defined"
          ]
        }
      ]
    },
    {
      "cell_type": "code",
      "source": [
        "# bike_3 데이터의 대여소명_new 값이 None 인 데이터 삭제\n",
        "\n",
        "bike_3 = bike_3.dropna(subset = [\"대여소명_new\"])\n",
        "\n",
        "print(bike_3.shape)\n",
        "print(bike_3.isnull().sum())\n",
        "\n",
        "bike_3.head()"
      ],
      "metadata": {
        "id": "7iF84RP7q0LB"
      },
      "execution_count": null,
      "outputs": []
    },
    {
      "cell_type": "code",
      "source": [
        "## 3-4 컬럼 타입 변경\n",
        "\n",
        "# bike_1 데이터의 대여소번호를 object 타입으로 변경\n",
        "\n",
        "bike_1[\"대여소번호\"] = bike_1[\"대여소번호\"].astype(\"object\")\n",
        "\n",
        "bike_1.info()"
      ],
      "metadata": {
        "id": "f45ZYiwIq0I0"
      },
      "execution_count": null,
      "outputs": []
    },
    {
      "cell_type": "code",
      "source": [
        "# bike_3 데이터의 이용건수, 이동거리, 사용시간을 수치형 데이터로 변경\n",
        "\n",
        "bike_3[\"이용건수\"] = pd.to_numeric(bike_3[\"이용건수\"])\n",
        "bike_3[\"이동거리\"] = pd.to_numeric(bike_3[\"이동거리\"])\n",
        "bike_3[\"사용시간\"] = pd.to_numeric(bike_3[\"사용시간\"])\n",
        "\n",
        "bike_3.info()"
      ],
      "metadata": {
        "id": "ZRkUYRLgq0GO"
      },
      "execution_count": null,
      "outputs": []
    },
    {
      "cell_type": "code",
      "source": [
        "# bike_3 데이터의 운동량과 탄소량을 수치형으로 변경하려고 하면 \"\\n\" 이라는 값 때문에 변경이 안됨\n",
        "# 따라서, \"\\n\" 값을 -1로 변경 후 수치형으로 변경(-1인 이유는 실제로 0인 데이터와 구분짓기 위함)\n",
        "\n",
        "# bike_3 데이터의 운동량, 탄소량 컬럼의 \"\\n\" 값을 -1로 변경\n",
        "\n",
        "bike_3[\"운동량\"][bike_3[\"운동량\"] == r\"\\n\"] = -1\n",
        "bike_3[\"탄소량\"][bike_3[\"탄소량\"] == r\"\\n\"] = -1"
      ],
      "metadata": {
        "colab": {
          "base_uri": "https://localhost:8080/",
          "height": 185
        },
        "id": "MwVQgnY1q0D7",
        "outputId": "9e9bb82f-cdb0-463b-e667-5c73d5591500"
      },
      "execution_count": null,
      "outputs": [
        {
          "output_type": "error",
          "ename": "NameError",
          "evalue": "name 'bike_3' is not defined",
          "traceback": [
            "\u001b[0;31m---------------------------------------------------------------------------\u001b[0m",
            "\u001b[0;31mNameError\u001b[0m                                 Traceback (most recent call last)",
            "\u001b[0;32m<ipython-input-6-626db928b9a7>\u001b[0m in \u001b[0;36m<cell line: 6>\u001b[0;34m()\u001b[0m\n\u001b[1;32m      4\u001b[0m \u001b[0;31m# bike_3 데이터의 운동량, 탄소량 컬럼의 \"\\n\" 값을 -1로 변경\u001b[0m\u001b[0;34m\u001b[0m\u001b[0;34m\u001b[0m\u001b[0m\n\u001b[1;32m      5\u001b[0m \u001b[0;34m\u001b[0m\u001b[0m\n\u001b[0;32m----> 6\u001b[0;31m \u001b[0mbike_3\u001b[0m\u001b[0;34m[\u001b[0m\u001b[0;34m\"운동량\"\u001b[0m\u001b[0;34m]\u001b[0m\u001b[0;34m[\u001b[0m\u001b[0mbike_3\u001b[0m\u001b[0;34m[\u001b[0m\u001b[0;34m\"운동량\"\u001b[0m\u001b[0;34m]\u001b[0m \u001b[0;34m==\u001b[0m \u001b[0mr\u001b[0m\u001b[0;34m]\u001b[0m\u001b[0;34m\u001b[0m\u001b[0;34m\u001b[0m\u001b[0m\n\u001b[0m",
            "\u001b[0;31mNameError\u001b[0m: name 'bike_3' is not defined"
          ]
        }
      ]
    },
    {
      "cell_type": "code",
      "source": [
        "# bike_1 데이터의 설치시기, bike_3 데이터의 대여일자를 날짜 타입으로 변경 // 데이터분석 2\n",
        "\n",
        "bike_1[\"설치시기\"] = pd.to_datetime(bike_1[\"설치시기\"])\n",
        "bike_3[\"대여일자\"] = pd.to_datetime(bike_3[\"대여일자\"])\n",
        "\n",
        "bike_1.info()\n",
        "#bike_3.info()\n"
      ],
      "metadata": {
        "id": "j3uD_393q0Bw"
      },
      "execution_count": null,
      "outputs": []
    },
    {
      "cell_type": "code",
      "source": [
        "bike_3_moving=bike_3.groupby(\"대여소명_new\")[\"이동거리\"].mean().reset_index().sort_values(by=\"이동거리\",ascending=False)\n",
        "\n",
        "bike_3_moving.head()"
      ],
      "metadata": {
        "id": "2AoZmHZf-kdJ"
      },
      "execution_count": null,
      "outputs": []
    },
    {
      "cell_type": "code",
      "source": [
        "bike_3_moving_top20=bike_3_moving.head(20).sort_values(by=\"이동거리\",ascending=True)\n",
        "\n",
        "fig=px.bar(bike_3_moving_top20,y=\"대여소명_new\",x=\"이동거리\",orientation=\"h\",color=\"이동거리\")\n",
        "\n",
        "fig.update_layout(\n",
        "    title=dict(\n",
        "        text=\"<b>평균 이동거리가 큰 대여소 top20</b>\"\n",
        "        font_size=20\n",
        "    ),\n",
        "\n",
        "    yaxis=dict(\n",
        "        title=\"대여소명\"\n",
        "    )\n",
        ")\n",
        "fig.show()"
      ],
      "metadata": {
        "id": "EMMFag6a-kab"
      },
      "execution_count": null,
      "outputs": []
    },
    {
      "cell_type": "code",
      "source": [
        "\n",
        "#평균 사용시간이 많은 순서대로 대여소명 확인\n",
        "\n",
        "bike_3_time=bike_3.groupby(\"대여소명_new\")[\"사용시간\"].mean().reset_index().sort_values(by=\"사용시간\",ascending=False)\n",
        "\n",
        "bike_3_time.head()"
      ],
      "metadata": {
        "id": "s6kD-6aS-kX2"
      },
      "execution_count": null,
      "outputs": []
    },
    {
      "cell_type": "code",
      "source": [
        "\n",
        "from weakref import proxy\n",
        "# 평균 사용시간이 많은 대여소 top20 시각화\n",
        "\n",
        "bike_3_time_top20=bike_3_time.head(20).sort_values(by=\"사용시간\",ascending=True)\n",
        "\n",
        "fig=px.bar(bike_3_time_top20,x=\"사용시간\",y=\"대여소명_new\",orientation=\"h\",color=\"사용시간\")\n",
        "\n",
        "fig.update_layout(\n",
        "    title=dict(\n",
        "        text=\"<b>평균 사용시간이 많은 대여소 top20</b>\"\n",
        "        font_size=20\n",
        "    ),\n",
        "\n",
        "    yaxis=dict(\n",
        "        title=\"대여소명\"\n",
        "    ),\n",
        "\n",
        "    template=\"plotly_white\"\n",
        ")\n",
        "fig.show()"
      ],
      "metadata": {
        "id": "tjH9XsXv-kU-"
      },
      "execution_count": null,
      "outputs": []
    },
    {
      "cell_type": "code",
      "source": [
        "\n",
        "# 운동량과 이동거리의 상관관계 시각화\n",
        "\n",
        "f, ax=plt.subplots(1,1,figsize=(18,8))\n",
        "\n",
        "sns.scatterplot(data=bike_3,x=\"이동거리\",y=\"운동량\")\n",
        "\n",
        "ax.set_xlim(-10000,150000) # x축 범위 조정\n",
        "ax.set_title(\"운동량과 이동거리의 상관관계\",size=20)\n",
        "\n",
        "plt.show()"
      ],
      "metadata": {
        "id": "uMXaUl5E-kSX"
      },
      "execution_count": null,
      "outputs": []
    },
    {
      "cell_type": "code",
      "source": [
        "# 성별/연령대별 이동거리와 운동량의 상관관계 시각화(runtime=16sec)\n",
        "\n",
        "import time #runtime 시간 측정\n",
        "\n",
        "start=time.time() #시작 시간\n",
        "\n",
        "f, ax=plt.subplots(1,2,figsize=(18,8))\n",
        "\n",
        "sns.scatterplot(data=bike_3,x=\"이동거리\",y=\"운동량\",hue=\"성별\",ax=ax[0])\n",
        "ax[0].set_xlim(-10000,150000) #x축 범위 조정\n",
        "ax[0].set_title(\"운동량과 이동거리 상관관계(성별)\",size=20)\n",
        "\n",
        "sns.scatterplot(data=bike_3,x=\"이동거리\",y=\"운동량\",hue=\"연령대코드\",ax=ax[1])\n",
        "ax[1].set_xlim(-10000,150000) #x축 범위 조정\n",
        "ax[1].set_title(\"운동량과 이동거리 상관관계(연령대)\",size=20)\n",
        "\n",
        "plt.show()\n",
        "\n",
        "end=time.time() #종료 시간\n",
        "\n",
        "print(\"runtime\",end-start) #실행 시간"
      ],
      "metadata": {
        "id": "9aGurC16-kPf"
      },
      "execution_count": null,
      "outputs": []
    },
    {
      "cell_type": "code",
      "source": [
        "# 따릉이를 가장 많이 이용하는 성별 확인\n",
        "\n",
        "bike_3[\"성별\"].value_counts()"
      ],
      "metadata": {
        "id": "420OfDkm-p1l"
      },
      "execution_count": null,
      "outputs": []
    },
    {
      "cell_type": "code",
      "source": [
        "# 따릉이를 가장 많이 이용하는 성별 시각화\n",
        "\n",
        "bike_3_sex=bike_3[\"성별\"].value_counts().reset_index()\n",
        "bike_3_sex.columns=[\"성별\",\"이용 수\"]\n",
        "\n",
        "fig=px.bar(bike_3_sex,x=\"성별\",y=\"이용 수\",color=\"성별\")\n",
        "\n",
        "fig.update_layout(\n",
        "    title=dict(\n",
        "        text=\"<b>성별에 따른 따릉이 이용 수</b>\"\n",
        "        font_size=20\n",
        "    ),\n",
        "    showlegend=False\n",
        ")\n",
        "fig.show()"
      ],
      "metadata": {
        "id": "VyU9eVAG-pzT"
      },
      "execution_count": null,
      "outputs": []
    },
    {
      "cell_type": "code",
      "source": [
        "# bike_3 데이터의 대여일자 컬럼을 연/월/일로 구분\n",
        "\n",
        "bike_3[\"대여일자_연\"]=bike_3[\"대여일자\"].dt.year\n",
        "bike_3[\"대여일자_월\"]=bike_3[\"대여일자\"].dt.month\n",
        "bike_3[\"대여일자_일\"]=bike_3[\"대여일자\"].dt.day\n",
        "\n",
        "bike_3.head()"
      ],
      "metadata": {
        "id": "Z0JayeCT-pww"
      },
      "execution_count": null,
      "outputs": []
    },
    {
      "cell_type": "code",
      "source": [
        "\n",
        "# 일별/성별 사용시간 확인\n",
        "\n",
        "bike_3_hour=pd.pivot_table(data=bike_3,\n",
        "                           index=\"대여일자_일\",\n",
        "                           columns=\"성별\",\n",
        "                           values=\"사용시간\",\n",
        "                           aggfunc=\"sum\")\n",
        "bike_3_hour.head()"
      ],
      "metadata": {
        "id": "uqlaUU8k-puM"
      },
      "execution_count": null,
      "outputs": []
    },
    {
      "cell_type": "code",
      "source": [
        "from tempfile import template\n",
        "# 일별/성별 사용시간 시각화\n",
        "\n",
        "layout=dict(\n",
        "    title=dict(\n",
        "        text=\"<b>일별/성별에 따른 따릉이 사용시간</b>\"\n",
        "        font_size=20\n",
        "    ),\n",
        "\n",
        "    xaxis=dict(\n",
        "        title=\"대여일\"\n",
        "        dtick=1\n",
        "    ),\n",
        "\n",
        "    yaxis=dict(\n",
        "        title=\"사용시간\"\n",
        "    ),\n",
        "\n",
        "    template=\"plotly_white\"\n",
        ")\n",
        "\n",
        "bike_3_hour.iplot(kind=\"line\",layout=layout)"
      ],
      "metadata": {
        "id": "c7b9XWs0-prh"
      },
      "execution_count": null,
      "outputs": []
    },
    {
      "cell_type": "code",
      "source": [
        "# 따릉이를 가장 많이 이용하는 연령대 확인\n",
        "\n",
        "bike_3[\"연령대코드\"].value_counts()"
      ],
      "metadata": {
        "id": "KnycDOGk-ppI"
      },
      "execution_count": null,
      "outputs": []
    },
    {
      "cell_type": "code",
      "source": [
        "# 따릉이을 가장 많이 이용하는 연령대 시각화\n",
        "\n",
        "bike_3_age=bike_3[\"연령대코드\"].value_counts().reset_index()\n",
        "bike_3_age.columns=[\"연령대\",\"이용 수\"]\n",
        "\n",
        "fig=px.bar(bike_3_age,x=\"연령대\",y=\"이용 수\",color=\"연령대\")\n",
        "\n",
        "fig.update_layout(\n",
        "    title=dict(\n",
        "        text=\"<b>연령대에 따른 따릉이 이용 수</b>\"\n",
        "        font_size=20\n",
        "    ),\n",
        "    showlegend=False\n",
        ")\n",
        "fig.show()"
      ],
      "metadata": {
        "id": "DEFcxWU8-1Gl"
      },
      "execution_count": null,
      "outputs": []
    },
    {
      "cell_type": "code",
      "source": [
        "# 일별/연령대별 사용시간 확인\n",
        "\n",
        "bike_3_age_hour=pd.pivot_table(data=bike_3,\n",
        "                               index=\"대여일자_일\",\n",
        "                               columns=\"연령대코드\",\n",
        "                               values=\"사용시간\",\n",
        "                               aggfunc=\"sum\")\n",
        "bike_3_age_hour.head()"
      ],
      "metadata": {
        "id": "5BjYbq9A-1D1"
      },
      "execution_count": null,
      "outputs": []
    },
    {
      "cell_type": "code",
      "source": [
        "# 일별/연령대별 사용시간 시각화\n",
        "\n",
        "layout=dict(\n",
        "    title=dict(\n",
        "        text=\"<b>일별/연령대에 따른 따릉이 사용시간</b>\",\n",
        "        font_size=20\n",
        "    ),\n",
        "\n",
        "    xaxis=dict(\n",
        "        title=\"대여일\"\n",
        "        dtick=1\n",
        "    ),\n",
        "\n",
        "    yaxis=dict(\n",
        "        title=\"사용시간\"\n",
        "    ),\n",
        "\n",
        "    #template=\"plotly_white\"\n",
        ")\n",
        "\n",
        "bike_3_age_hour.iplot(kind=\"line\",layout=layout)"
      ],
      "metadata": {
        "id": "z7lQ2mE--1BP"
      },
      "execution_count": null,
      "outputs": []
    },
    {
      "cell_type": "code",
      "source": [
        "# lcd 거치대와 qr 거치대 수 합하기\n",
        "\n",
        "bike_1[\"총거치대수\"]=bike_1[\"거치대수lcd\"] + bike_1[\"거치대수qr\"]\n",
        "\n",
        "print(bike_1.shape)\n",
        "bike_1.head()"
      ],
      "metadata": {
        "id": "lc_GCTL8-0-1"
      },
      "execution_count": null,
      "outputs": []
    },
    {
      "cell_type": "code",
      "source": [
        "# 자치구별 거치대 수 확인\n",
        "\n",
        "bike_1_region=bike_1.groupby(\"자치구\")[\"총거치대수\"].sum().reset_index()\n",
        "bike_1_region=bike_1_region.set_index(\"자치구\")\n",
        "\n",
        "bike_1_region.sort_values(by=\"총거치대수\",ascending=False).head()"
      ],
      "metadata": {
        "id": "WxTEOPQf-07-"
      },
      "execution_count": null,
      "outputs": []
    },
    {
      "cell_type": "code",
      "source": [
        "# folium 으로 서울 지도위에 거치대 수 분포 확인\n",
        "\n",
        "import json\n",
        "import folium\n",
        "\n",
        "geo_path=\"data/skorea_municipalities_geo_simple.json\" #json파일 위치\n",
        "geo_str=json.load(open(geo_path,encoding=\"utf-8\")) #json파일 읽기\n",
        "\n",
        "bike_1_map=folium.Map(location=[37.5502,126.982],zoom_start=11,tiles=\"Stamen Toner\")\n",
        "#location=서울 위치\n",
        "#tiles=\"OpenStreetMap\", \"Stamen Terrain\"\n",
        "\n",
        "bike_1_map.choropleth(\n",
        "    geo_data=geo_str,\n",
        "    data=bike_1_region[\"총거치대수\"],\n",
        "    columns=[\"자치구\",\"총거치대수\"],\n",
        "    fill_color=\"YIGnBu\",\n",
        "    key_on=\"feature.properties.name\",\n",
        "    legend_name=\"자치구별 따릉이 총 거치대 수\"\n",
        ")\n",
        "\n",
        "bike_1_map"
      ],
      "metadata": {
        "id": "JUIwwQ3V-6tK"
      },
      "execution_count": null,
      "outputs": []
    },
    {
      "cell_type": "code",
      "source": [
        "# 대여소번호를 수치형 데이터로 변경\n",
        "\n",
        "bike_1[\"대여소번호\"]=pd.to_numeric(bike_1[\"대여소번호\"])\n",
        "bike_2[\"대여소번호\"]=pd.to_numeric(bike_2[\"대여소번호\"])\n",
        "\n",
        "bike_1.info()"
      ],
      "metadata": {
        "id": "e3bvFN6M-6q8"
      },
      "execution_count": null,
      "outputs": []
    },
    {
      "cell_type": "code",
      "source": [
        "# 대여소명에 자치구 붙이기\n",
        "\n",
        "bike_merge=pd.merge(bike_1,bike_2,left_on=\"대여소번호\",right_on=\"대여소번호\")\n",
        "\n",
        "bike_merge.head()\n"
      ],
      "metadata": {
        "id": "Mc5BTd2E-6oQ"
      },
      "execution_count": null,
      "outputs": []
    },
    {
      "cell_type": "code",
      "source": [
        "# 필요한 컬럼만 사용\n",
        "\n",
        "bike_merge_1=bike_merge[[\"대여소번호\",\"대여소명_x\",\"자치구\",\"총거치대수\",\"대여일자/월\",\"대여건수\"]]\n",
        "\n",
        "bike_merge_1.head()\n"
      ],
      "metadata": {
        "id": "_QJL4GQ_-6lg"
      },
      "execution_count": null,
      "outputs": []
    },
    {
      "cell_type": "code",
      "source": [
        "# 202001 데이터만 사용\n",
        "\n",
        "bike_merge_1=bike_merge_1[bike_merge_1[\"대여일자/월\"]==202001]\n",
        "\n",
        "bike_merge_1.head()"
      ],
      "metadata": {
        "id": "LYBt3UsP--Zj"
      },
      "execution_count": null,
      "outputs": []
    },
    {
      "cell_type": "code",
      "source": [
        "\n",
        "# 자치구별 대여건수 확인\n",
        "\n",
        "bike_merge_1=bike_merge_1.groupby(\"자치구\")[\"대여건수\"].sum().reset_index()\n",
        "bike_merge_1=bike_merge_1.set_index(\"자치구\")\n",
        "\n",
        "bike_merge_1.sort_values(by=\"대여건수\",ascending=False).head()"
      ],
      "metadata": {
        "id": "YCPkw3PD--Wx"
      },
      "execution_count": null,
      "outputs": []
    },
    {
      "cell_type": "code",
      "source": [
        "# 지도에 자치구별 대여건수 나타내기\n",
        "\n",
        "bike_merge_1_map=folium.Map(location=[37.5502,126.982],zoom_start=11,tiles=\"OpenStreetMap\")\n",
        "\n",
        "bike_merge_1_map.choropleth(\n",
        "    geo_data=geo_str,\n",
        "    data=bike_merge_1[\"대여건수\"],\n",
        "    columns=[\"자치구\",\"대여건수\"],\n",
        "    fill_color=\"PuRd\",\n",
        "    key_on=\"feature.properties.name\",\n",
        "    legend_name=\"자치구별 따릉이 대여건수\"\n",
        ")\n",
        "\n",
        "bike_merge_1_map"
      ],
      "metadata": {
        "id": "-2Ba9VNK--UT"
      },
      "execution_count": null,
      "outputs": []
    },
    {
      "cell_type": "code",
      "source": [],
      "metadata": {
        "id": "up44TY92--Rc"
      },
      "execution_count": null,
      "outputs": []
    },
    {
      "cell_type": "code",
      "source": [],
      "metadata": {
        "id": "W1KuLc-F--O5"
      },
      "execution_count": null,
      "outputs": []
    },
    {
      "cell_type": "code",
      "source": [],
      "metadata": {
        "id": "JvNaM6Sn--MC"
      },
      "execution_count": null,
      "outputs": []
    }
  ]
}