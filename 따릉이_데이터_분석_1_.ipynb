{
  "nbformat": 4,
  "nbformat_minor": 0,
  "metadata": {
    "colab": {
      "provenance": [],
      "authorship_tag": "ABX9TyOgxKkC7/83tmjHFKHCgLI6",
      "include_colab_link": true
    },
    "kernelspec": {
      "name": "python3",
      "display_name": "Python 3"
    },
    "language_info": {
      "name": "python"
    }
  },
  "cells": [
    {
      "cell_type": "markdown",
      "metadata": {
        "id": "view-in-github",
        "colab_type": "text"
      },
      "source": [
        "<a href=\"https://colab.research.google.com/github/Leejungs/2024-1-my-BDA/blob/main/%EB%94%B0%EB%A6%89%EC%9D%B4_%EB%8D%B0%EC%9D%B4%ED%84%B0_%EB%B6%84%EC%84%9D_1_.ipynb\" target=\"_parent\"><img src=\"https://colab.research.google.com/assets/colab-badge.svg\" alt=\"Open In Colab\"/></a>"
      ]
    },
    {
      "cell_type": "code",
      "execution_count": 1,
      "metadata": {
        "id": "yDwGTsSXFx-E"
      },
      "outputs": [],
      "source": [
        "# 기본 패키지 불러오기\n",
        "\n",
        "import math\n",
        "import numpy as np\n",
        "import pandas as pd\n",
        "import matplotlib.pyplot as plt\n",
        "import seaborn as sns\n",
        "plt.style.use(\"seaborn\")\n",
        "sns.set(font_scale = 1)\n",
        "sns.set_style(\"whitegrid\")\n",
        "\n",
        "import plotly.express as px\n",
        "\n",
        "import chart_studio.plotly as py\n",
        "import cufflinks as cf\n",
        "cf.go_offline(connected=True)\n",
        "\n",
        "import plotly.graph_objects as go\n",
        "import plotly.offline as pyo\n",
        "pyo.init_notebook_mode()\n",
        "\n",
        "from plotly.subplots import make_subplots\n",
        "\n",
        "import warnings # 경고 메세지 숨기기\n",
        "warnings.filterwarnings(\"ignore\")\n",
        "\n",
        "plt.rcParams[\"font.family\"] = 'S-Core Dream' # 한글 폰트 가져오기\n",
        "plt.rcParams['axes.unicode_minus'] = False # - 기호 깨짐 해결\n"
      ]
    },
    {
      "cell_type": "code",
      "source": [
        "# 데이터 불러오기\n",
        "\n",
        "bike_1 = pd.read_csv(\"공공자전거 대여소 정보_csv\", encoding=\"cp949\")\n",
        "bike_2 = pd.read_csv(\"서울특별시_공공자전거_이용정보(월별).csv\", encoding=\"cp949\")\n",
        "bike_3 = pd.read_csv(\"서울특별시_공공자전거_이용정보(시간대별).csv\", encoding=\"cp949\")\n",
        "\n",
        "print(bike_1.shape)\n",
        "print(bike_2.shape)\n",
        "print(bike_3.shape)\n",
        "\n",
        "bike_1.head()\n",
        "#bike_2.head()\n",
        "#bike_3.head()"
      ],
      "metadata": {
        "id": "z3jNVEUVGD8I"
      },
      "execution_count": 1,
      "outputs": []
    },
    {
      "cell_type": "code",
      "source": [
        "# 데이터 기본 정보 확인\n",
        "\n",
        "#bike_1.info()\n",
        "#bike_2.info()\n",
        "bike_3.info()"
      ],
      "metadata": {
        "id": "KclrCY-xQzEB"
      },
      "execution_count": null,
      "outputs": []
    },
    {
      "cell_type": "code",
      "source": [
        "# 수치형 데이터 통계 확인\n",
        "\n",
        "#bike_1.describe()\n",
        "#bike_2.describe()\n",
        "bike_3.describe()"
      ],
      "metadata": {
        "id": "NAJiTqP2RxVh"
      },
      "execution_count": null,
      "outputs": []
    },
    {
      "cell_type": "code",
      "source": [
        "# 범주형 데이터 통계 확인\n",
        "\n",
        "#bike_1.describe(include = np.object_)\n",
        "#bike_2.describe(include = np.object_)\n",
        "bike_3.describe(include = np.object_)"
      ],
      "metadata": {
        "id": "bhJROd2mRxTG"
      },
      "execution_count": null,
      "outputs": []
    },
    {
      "cell_type": "code",
      "source": [
        "# bike_1 데이터 결측치 확인\n",
        "\n",
        "bike_1.isnull().sum()"
      ],
      "metadata": {
        "id": "pTq7ZzB3RxMx"
      },
      "execution_count": null,
      "outputs": []
    },
    {
      "cell_type": "code",
      "source": [
        "# bike_1 데이터 결측치 시각화\n",
        "\n",
        "msno.bar(bike_1)"
      ],
      "metadata": {
        "id": "aY37JNUXRxIN"
      },
      "execution_count": null,
      "outputs": []
    },
    {
      "cell_type": "code",
      "source": [
        "# bike_2 데이터 결측치 확인\n",
        "\n",
        "bike_2.isnull().sum()"
      ],
      "metadata": {
        "id": "TLiPe8A-RxB2"
      },
      "execution_count": null,
      "outputs": []
    },
    {
      "cell_type": "code",
      "source": [
        "# bike_3 데이터 결측치 확인\n",
        "\n",
        "bike_3.isnull().sum()"
      ],
      "metadata": {
        "id": "uHubstCuRwzO"
      },
      "execution_count": null,
      "outputs": []
    },
    {
      "cell_type": "code",
      "source": [
        "# bike_3 데이터 결측치 시각화 //여기까지가 데이터분석 1\n",
        "\n",
        "msno.bar(bike_3)"
      ],
      "metadata": {
        "colab": {
          "base_uri": "https://localhost:8080/",
          "height": 185
        },
        "id": "shhzLo2ISTZl",
        "outputId": "bd9f8417-cc72-4287-9751-a0d3131fba47"
      },
      "execution_count": 2,
      "outputs": [
        {
          "output_type": "error",
          "ename": "NameError",
          "evalue": "name 'msno' is not defined",
          "traceback": [
            "\u001b[0;31m---------------------------------------------------------------------------\u001b[0m",
            "\u001b[0;31mNameError\u001b[0m                                 Traceback (most recent call last)",
            "\u001b[0;32m<ipython-input-2-4f9d36e8f4cd>\u001b[0m in \u001b[0;36m<cell line: 3>\u001b[0;34m()\u001b[0m\n\u001b[1;32m      1\u001b[0m \u001b[0;31m# bike_3 데이터 결측치 시각화\u001b[0m\u001b[0;34m\u001b[0m\u001b[0;34m\u001b[0m\u001b[0m\n\u001b[1;32m      2\u001b[0m \u001b[0;34m\u001b[0m\u001b[0m\n\u001b[0;32m----> 3\u001b[0;31m \u001b[0mmsno\u001b[0m\u001b[0;34m.\u001b[0m\u001b[0mbar\u001b[0m\u001b[0;34m(\u001b[0m\u001b[0mbike_3\u001b[0m\u001b[0;34m)\u001b[0m\u001b[0;34m\u001b[0m\u001b[0;34m\u001b[0m\u001b[0m\n\u001b[0m",
            "\u001b[0;31mNameError\u001b[0m: name 'msno' is not defined"
          ]
        }
      ]
    },
    {
      "cell_type": "code",
      "source": [
        "## 3-1 컬럼명 바꾸기\n",
        "# bike_1 데이터 컬럼명 바꾸기\n",
        "\n",
        "bike_1.columns = ['대여소번호', '대여소명', '자치구', ' 상세주도', '위도', '경도', '설치시기', '거치대수lcd', '거치대수qr', '운영방식']\n",
        "\n",
        "bike_1.head(1)"
      ],
      "metadata": {
        "colab": {
          "base_uri": "https://localhost:8080/",
          "height": 222
        },
        "id": "8OsU-9emSgST",
        "outputId": "3048b040-ee4c-427b-b5b5-2f728c3d6871"
      },
      "execution_count": 3,
      "outputs": [
        {
          "output_type": "error",
          "ename": "NameError",
          "evalue": "name 'bike_1' is not defined",
          "traceback": [
            "\u001b[0;31m---------------------------------------------------------------------------\u001b[0m",
            "\u001b[0;31mNameError\u001b[0m                                 Traceback (most recent call last)",
            "\u001b[0;32m<ipython-input-3-939e858e4188>\u001b[0m in \u001b[0;36m<cell line: 4>\u001b[0;34m()\u001b[0m\n\u001b[1;32m      2\u001b[0m \u001b[0;31m# bike_1 데이터 컬럼명 바꾸기\u001b[0m\u001b[0;34m\u001b[0m\u001b[0;34m\u001b[0m\u001b[0m\n\u001b[1;32m      3\u001b[0m \u001b[0;34m\u001b[0m\u001b[0m\n\u001b[0;32m----> 4\u001b[0;31m \u001b[0mbike_1\u001b[0m\u001b[0;34m.\u001b[0m\u001b[0mcolumns\u001b[0m \u001b[0;34m=\u001b[0m \u001b[0;34m[\u001b[0m\u001b[0;34m'대여소번호'\u001b[0m\u001b[0;34m,\u001b[0m \u001b[0;34m'대여소명'\u001b[0m\u001b[0;34m,\u001b[0m \u001b[0;34m'자치구'\u001b[0m\u001b[0;34m,\u001b[0m \u001b[0;34m' 상세주도'\u001b[0m\u001b[0;34m,\u001b[0m \u001b[0;34m'위도'\u001b[0m\u001b[0;34m,\u001b[0m \u001b[0;34m'경도'\u001b[0m\u001b[0;34m,\u001b[0m \u001b[0;34m'설치시기'\u001b[0m\u001b[0;34m,\u001b[0m \u001b[0;34m'거치대수lcd'\u001b[0m\u001b[0;34m,\u001b[0m \u001b[0;34m'거치대수qr'\u001b[0m\u001b[0;34m,\u001b[0m \u001b[0;34m'운영방식'\u001b[0m\u001b[0;34m]\u001b[0m\u001b[0;34m\u001b[0m\u001b[0;34m\u001b[0m\u001b[0m\n\u001b[0m\u001b[1;32m      5\u001b[0m \u001b[0;34m\u001b[0m\u001b[0m\n\u001b[1;32m      6\u001b[0m \u001b[0mbike_1\u001b[0m\u001b[0;34m.\u001b[0m\u001b[0mhead\u001b[0m\u001b[0;34m(\u001b[0m\u001b[0;36m1\u001b[0m\u001b[0;34m)\u001b[0m\u001b[0;34m\u001b[0m\u001b[0;34m\u001b[0m\u001b[0m\n",
            "\u001b[0;31mNameError\u001b[0m: name 'bike_1' is not defined"
          ]
        }
      ]
    },
    {
      "cell_type": "code",
      "source": [
        "# bike_2 데이터 컬럼명 바꾸기\n",
        "\n",
        "bike_2.columns = ['대여소명', '대여일자/월', '대여건수']\n",
        "\n",
        "bike_2.head(1)"
      ],
      "metadata": {
        "id": "7Df8SraRkhrq"
      },
      "execution_count": null,
      "outputs": []
    },
    {
      "cell_type": "code",
      "source": [
        "## 3-2 필요없는 컬럼 삭제하기\n",
        "\n",
        "#bike_1 = bike_1.drop([\"상세주소\", \"위도\", \"경도\"], axis = 1)\n",
        "\n",
        "print(bike_1.shape)\n",
        "bike_1.head()"
      ],
      "metadata": {
        "id": "MrPz_RvYkslS"
      },
      "execution_count": null,
      "outputs": []
    },
    {
      "cell_type": "code",
      "source": [
        "## 3-3 결측치 처리하기\n",
        "\n",
        "# bike_1 데이터에서 설치시기가 NaN인 데이터는 수가 매우 적으므로 삭제\n",
        "\n",
        "dp = bike_1[bike_1[\"설치시기\"].isnull()]\n",
        "bike_1 = bike_1.drop(dp.index)\n",
        "\n",
        "bike_1.isnull().sum()"
      ],
      "metadata": {
        "id": "v131wRssksjM"
      },
      "execution_count": null,
      "outputs": []
    },
    {
      "cell_type": "code",
      "source": [
        "# bike_1 데이터에서 운영방식에 따라 LCD 또는 QR 거치대의 수가 결정되기 때문에\n",
        "# 거치대수lcd, 거치대수qr 컬럼의 NaN 값은 0으로 처리\n",
        "\n",
        "bike_1 = bike_1.fillna(0)\n",
        "\n",
        "bike_1.isnull().sum()"
      ],
      "metadata": {
        "id": "zNgtvqmdksWB"
      },
      "execution_count": null,
      "outputs": []
    },
    {
      "cell_type": "code",
      "source": [
        "# 성별 컬럼 분류 확인\n",
        "\n",
        "bike_3[\"성별\"].nunique()"
      ],
      "metadata": {
        "id": "ddd13UIJksT2"
      },
      "execution_count": null,
      "outputs": []
    },
    {
      "cell_type": "code",
      "source": [
        "# bike_3 데이터의 성별 값 통일\n",
        "\n",
        "bike_3[bike_3[\"성별\"] ==\"f\"] = \"F\"\n",
        "bike_3[bike_3[\"성별\"] ==\"m\"] = \"M\"\n",
        "\n",
        "bike_3[\"성별\"].unique()"
      ],
      "metadata": {
        "id": "kPRUNAu8ksPZ"
      },
      "execution_count": null,
      "outputs": []
    },
    {
      "cell_type": "code",
      "source": [
        "# bike_2 데이터의 대여소명 앞 숫자 분리\n",
        "\n",
        "bike_2[\"대여소번호\"] = bike_2[\"대여소명\"].str.split(\",\", expand = Ture)[0]\n",
        "\n",
        "# 대여소명은 숫자를 땐 값으로 새로운 컬럼 값으로 지정\n",
        "\n",
        "bike_2[\"대여소명_new\"] = bike_2[\"대여소명\"].str.split(\",\", expand = True)[1]\n",
        "\n",
        "print(bike_2.shape)\n",
        "print(bike_2.isnull().sum())\n",
        "\n",
        "bike_2.head()"
      ],
      "metadata": {
        "id": "EL4LJ-bQksM0"
      },
      "execution_count": null,
      "outputs": []
    },
    {
      "cell_type": "code",
      "source": [
        "bike_2[bike_2[\"대여소명_new\"].isnull()].head()"
      ],
      "metadata": {
        "id": "i3TzKuICksKb"
      },
      "execution_count": null,
      "outputs": []
    },
    {
      "cell_type": "code",
      "source": [
        "# bike_2 데이터의 대여소명_new 값이 None 인 데이터 삭제\n",
        "\n",
        "bike_2 = bike_2.dropna(subset = [\"대여소명_new\"])\n",
        "\n",
        "print(bike_2.shape)\n",
        "print(bike_2.isnull().sum())\n",
        "\n",
        "bike_2.head()"
      ],
      "metadata": {
        "id": "t16NGd_MksH4"
      },
      "execution_count": null,
      "outputs": []
    },
    {
      "cell_type": "code",
      "source": [
        "# bike_3 데이터의 대여소명 앞의 숫자가 삭제된 새로운 대여소명 컬럼 생성\n",
        "\n",
        "bike_3[\"대여소명_new\"] = bike_3[\"대여소명\"].str.split(\",\", expand = True)[1]\n",
        "\n",
        "print(bike_3.shape)\n",
        "print(bike_3.isnull().sum())\n",
        "\n",
        "bike_3.head()"
      ],
      "metadata": {
        "colab": {
          "base_uri": "https://localhost:8080/",
          "height": 222
        },
        "id": "REjGbjYcq0NG",
        "outputId": "a3632dd6-2ae3-463b-b856-3e9acbf6fe3c"
      },
      "execution_count": 4,
      "outputs": [
        {
          "output_type": "error",
          "ename": "NameError",
          "evalue": "name 'bike_3' is not defined",
          "traceback": [
            "\u001b[0;31m---------------------------------------------------------------------------\u001b[0m",
            "\u001b[0;31mNameError\u001b[0m                                 Traceback (most recent call last)",
            "\u001b[0;32m<ipython-input-4-9038426341ff>\u001b[0m in \u001b[0;36m<cell line: 3>\u001b[0;34m()\u001b[0m\n\u001b[1;32m      1\u001b[0m \u001b[0;31m# bike_3 데이터의 대여소명 앞의 숫자가 삭제된 새로운 대여소명 컬럼 생성\u001b[0m\u001b[0;34m\u001b[0m\u001b[0;34m\u001b[0m\u001b[0m\n\u001b[1;32m      2\u001b[0m \u001b[0;34m\u001b[0m\u001b[0m\n\u001b[0;32m----> 3\u001b[0;31m \u001b[0mbike_3\u001b[0m\u001b[0;34m[\u001b[0m\u001b[0;34m\"대여소명_new\"\u001b[0m\u001b[0;34m]\u001b[0m \u001b[0;34m=\u001b[0m \u001b[0mbike_3\u001b[0m\u001b[0;34m[\u001b[0m\u001b[0;34m\"대여소명\"\u001b[0m\u001b[0;34m]\u001b[0m\u001b[0;34m.\u001b[0m\u001b[0mstr\u001b[0m\u001b[0;34m.\u001b[0m\u001b[0msplit\u001b[0m\u001b[0;34m(\u001b[0m\u001b[0;34m\",\"\u001b[0m\u001b[0;34m,\u001b[0m \u001b[0mexpand\u001b[0m \u001b[0;34m=\u001b[0m \u001b[0;32mTrue\u001b[0m\u001b[0;34m)\u001b[0m\u001b[0;34m[\u001b[0m\u001b[0;36m1\u001b[0m\u001b[0;34m]\u001b[0m\u001b[0;34m\u001b[0m\u001b[0;34m\u001b[0m\u001b[0m\n\u001b[0m\u001b[1;32m      4\u001b[0m \u001b[0;34m\u001b[0m\u001b[0m\n\u001b[1;32m      5\u001b[0m \u001b[0mprint\u001b[0m\u001b[0;34m(\u001b[0m\u001b[0mbike_3\u001b[0m\u001b[0;34m.\u001b[0m\u001b[0mshape\u001b[0m\u001b[0;34m)\u001b[0m\u001b[0;34m\u001b[0m\u001b[0;34m\u001b[0m\u001b[0m\n",
            "\u001b[0;31mNameError\u001b[0m: name 'bike_3' is not defined"
          ]
        }
      ]
    },
    {
      "cell_type": "code",
      "source": [
        "# bike_3 데이터의 대여소명_new 값이 None 인 데이터 삭제\n",
        "\n",
        "bike_3 = bike_3.dropna(subset = [\"대여소명_new\"])\n",
        "\n",
        "print(bike_3.shape)\n",
        "print(bike_3.isnull().sum())\n",
        "\n",
        "bike_3.head()"
      ],
      "metadata": {
        "id": "7iF84RP7q0LB"
      },
      "execution_count": null,
      "outputs": []
    },
    {
      "cell_type": "code",
      "source": [
        "## 3-4 컬럼 타입 변경\n",
        "\n",
        "# bike_1 데이터의 대여소번호를 object 타입으로 변경\n",
        "\n",
        "bike_1[\"대여소번호\"] = bike_1[\"대여소번호\"].astype(\"object\")\n",
        "\n",
        "bike_1.info()"
      ],
      "metadata": {
        "id": "f45ZYiwIq0I0"
      },
      "execution_count": null,
      "outputs": []
    },
    {
      "cell_type": "code",
      "source": [
        "# bike_3 데이터의 이용건수, 이동거리, 사용시간을 수치형 데이터로 변경\n",
        "\n",
        "bike_3[\"이용건수\"] = pd.to_numeric(bike_3[\"이용건수\"])\n",
        "bike_3[\"이동거리\"] = pd.to_numeric(bike_3[\"이동거리\"])\n",
        "bike_3[\"사용시간\"] = pd.to_numeric(bike_3[\"사용시간\"])\n",
        "\n",
        "bike_3.info()"
      ],
      "metadata": {
        "id": "ZRkUYRLgq0GO"
      },
      "execution_count": null,
      "outputs": []
    },
    {
      "cell_type": "code",
      "source": [
        "# bike_3 데이터의 운동량과 탄소량을 수치형으로 변경하려고 하면 \"\\n\" 이라는 값 때문에 변경이 안됨\n",
        "# 따라서, \"\\n\" 값을 -1로 변경 후 수치형으로 변경(-1인 이유는 실제로 0인 데이터와 구분짓기 위함)\n",
        "\n",
        "# bike_3 데이터의 운동량, 탄소량 컬럼의 \"\\n\" 값을 -1로 변경\n",
        "\n",
        "bike_3[\"운동량\"][bike_3[\"운동량\"] == r\"\\n\"] = -1\n",
        "bike_3[\"탄소량\"][bike_3[\"탄소량\"] == r\"\\n\"] = -1"
      ],
      "metadata": {
        "colab": {
          "base_uri": "https://localhost:8080/",
          "height": 185
        },
        "id": "MwVQgnY1q0D7",
        "outputId": "9e9bb82f-cdb0-463b-e667-5c73d5591500"
      },
      "execution_count": 6,
      "outputs": [
        {
          "output_type": "error",
          "ename": "NameError",
          "evalue": "name 'bike_3' is not defined",
          "traceback": [
            "\u001b[0;31m---------------------------------------------------------------------------\u001b[0m",
            "\u001b[0;31mNameError\u001b[0m                                 Traceback (most recent call last)",
            "\u001b[0;32m<ipython-input-6-626db928b9a7>\u001b[0m in \u001b[0;36m<cell line: 6>\u001b[0;34m()\u001b[0m\n\u001b[1;32m      4\u001b[0m \u001b[0;31m# bike_3 데이터의 운동량, 탄소량 컬럼의 \"\\n\" 값을 -1로 변경\u001b[0m\u001b[0;34m\u001b[0m\u001b[0;34m\u001b[0m\u001b[0m\n\u001b[1;32m      5\u001b[0m \u001b[0;34m\u001b[0m\u001b[0m\n\u001b[0;32m----> 6\u001b[0;31m \u001b[0mbike_3\u001b[0m\u001b[0;34m[\u001b[0m\u001b[0;34m\"운동량\"\u001b[0m\u001b[0;34m]\u001b[0m\u001b[0;34m[\u001b[0m\u001b[0mbike_3\u001b[0m\u001b[0;34m[\u001b[0m\u001b[0;34m\"운동량\"\u001b[0m\u001b[0;34m]\u001b[0m \u001b[0;34m==\u001b[0m \u001b[0mr\u001b[0m\u001b[0;34m]\u001b[0m\u001b[0;34m\u001b[0m\u001b[0;34m\u001b[0m\u001b[0m\n\u001b[0m",
            "\u001b[0;31mNameError\u001b[0m: name 'bike_3' is not defined"
          ]
        }
      ]
    },
    {
      "cell_type": "code",
      "source": [
        "# bike_1 데이터의 설치시기, bike_3 데이터의 대여일자를 날짜 타입으로 변경 // 데이터분석 2\n",
        "\n",
        "bike_1[\"설치시기\"] = pd.to_datetime(bike_1[\"설치시기\"])\n",
        "bike_3[\"대여일자\"] = pd.to_datetime(bike_3[\"대여일자\"])\n",
        "\n",
        "bike_1.info()\n",
        "#bike_3.info()\n"
      ],
      "metadata": {
        "id": "j3uD_393q0Bw"
      },
      "execution_count": null,
      "outputs": []
    }
  ]
}